{
 "cells": [
  {
   "cell_type": "code",
   "execution_count": 1,
   "id": "4feb9864-a751-4306-a434-1c652e4630e6",
   "metadata": {},
   "outputs": [],
   "source": [
    "from crudModule import AnimalShelter"
   ]
  },
  {
   "cell_type": "code",
   "execution_count": 2,
   "id": "9971d421-a63b-43f1-88bd-688743aff4e2",
   "metadata": {},
   "outputs": [],
   "source": [
    "shelter = AnimalShelter('accuser')"
   ]
  },
  {
   "cell_type": "code",
   "execution_count": 3,
   "id": "15b524a2-b235-424c-aa46-98b715006087",
   "metadata": {},
   "outputs": [],
   "source": [
    "test_animal = {\n",
    "    \"rec_num\": 999999,\n",
    "    \"age_upon_outcome\": \"5 months\",\n",
    "    \"animal_id\": \"A999999\",\n",
    "    \"animal_type\": \"Cat\",\n",
    "    \"breed\": \"Siamese Mix\",\n",
    "    \"color\": \"Cream/Gray\",\n",
    "    \"date_of_birth\": \"2024-02-15\",\n",
    "    \"datetime\": \"2024-07-25 10:30:00\",\n",
    "    \"monthyear\": \"2024-07-25T10:30:00\",\n",
    "    \"name\": \"Luna\",\n",
    "    \"outcome_subtype\": \"Foster\",\n",
    "    \"outcome_type\": \"Adoption\",\n",
    "    \"sex_upon_outcome\": \"Spayed Female\",\n",
    "    \"location_lat\": 30.2672,\n",
    "    \"location_long\": -97.7431,\n",
    "    \"age_upon_outcome_in_weeks\": 21.7\n",
    "}"
   ]
  },
  {
   "cell_type": "code",
   "execution_count": 4,
   "id": "b6e5fc79-6837-407b-baea-fcd03bec0251",
   "metadata": {},
   "outputs": [
    {
     "data": {
      "text/plain": [
       "True"
      ]
     },
     "execution_count": 4,
     "metadata": {},
     "output_type": "execute_result"
    }
   ],
   "source": [
    "shelter.create(test_animal)"
   ]
  },
  {
   "cell_type": "code",
   "execution_count": 5,
   "id": "b2d173e4-ddbb-4f4e-99cd-d696bc33cbfc",
   "metadata": {},
   "outputs": [
    {
     "data": {
      "text/plain": [
       "[{'_id': ObjectId('68a27dd0b1a14cbf43deef09'),\n",
       "  'rec_num': 999999,\n",
       "  'age_upon_outcome': '5 months',\n",
       "  'animal_id': 'A999999',\n",
       "  'animal_type': 'Cat',\n",
       "  'breed': 'Siamese Mix',\n",
       "  'color': 'Cream/Gray',\n",
       "  'date_of_birth': '2024-02-15',\n",
       "  'datetime': '2024-07-25 10:30:00',\n",
       "  'monthyear': '2024-07-25T10:30:00',\n",
       "  'name': 'Luna',\n",
       "  'outcome_subtype': 'Foster',\n",
       "  'outcome_type': 'Adoption',\n",
       "  'sex_upon_outcome': 'Spayed Female',\n",
       "  'location_lat': 30.2672,\n",
       "  'location_long': -97.7431,\n",
       "  'age_upon_outcome_in_weeks': 21.7}]"
      ]
     },
     "execution_count": 5,
     "metadata": {},
     "output_type": "execute_result"
    }
   ],
   "source": [
    "shelter.read(test_animal)"
   ]
  },
  {
   "cell_type": "code",
   "execution_count": 6,
   "id": "39ce84f1-8e12-4a89-af6c-b7e5546cfa6d",
   "metadata": {},
   "outputs": [
    {
     "data": {
      "text/plain": [
       "[]"
      ]
     },
     "execution_count": 6,
     "metadata": {},
     "output_type": "execute_result"
    }
   ],
   "source": [
    "shelter.read({\"animal_type\": \"fish\"})"
   ]
  },
  {
   "cell_type": "code",
   "execution_count": 7,
   "id": "ced052db-cd2d-4e69-9881-da28bd2d5d66",
   "metadata": {},
   "outputs": [
    {
     "data": {
      "text/plain": [
       "1"
      ]
     },
     "execution_count": 7,
     "metadata": {},
     "output_type": "execute_result"
    }
   ],
   "source": [
    "shelter.update(test_animal, {\"$set\": {\"color\": \"White/Orange\"}})"
   ]
  },
  {
   "cell_type": "code",
   "execution_count": 8,
   "id": "b9a4587d-7401-497b-90cf-410157b01c21",
   "metadata": {},
   "outputs": [],
   "source": [
    "test_animal[\"color\"] = \"White/Orange\" # update local variable so i can still call it as argument"
   ]
  },
  {
   "cell_type": "code",
   "execution_count": 9,
   "id": "ccf80e12-18ea-4002-b10c-b62add76f462",
   "metadata": {},
   "outputs": [
    {
     "data": {
      "text/plain": [
       "[{'_id': ObjectId('68a27dd0b1a14cbf43deef09'),\n",
       "  'rec_num': 999999,\n",
       "  'age_upon_outcome': '5 months',\n",
       "  'animal_id': 'A999999',\n",
       "  'animal_type': 'Cat',\n",
       "  'breed': 'Siamese Mix',\n",
       "  'color': 'White/Orange',\n",
       "  'date_of_birth': '2024-02-15',\n",
       "  'datetime': '2024-07-25 10:30:00',\n",
       "  'monthyear': '2024-07-25T10:30:00',\n",
       "  'name': 'Luna',\n",
       "  'outcome_subtype': 'Foster',\n",
       "  'outcome_type': 'Adoption',\n",
       "  'sex_upon_outcome': 'Spayed Female',\n",
       "  'location_lat': 30.2672,\n",
       "  'location_long': -97.7431,\n",
       "  'age_upon_outcome_in_weeks': 21.7}]"
      ]
     },
     "execution_count": 9,
     "metadata": {},
     "output_type": "execute_result"
    }
   ],
   "source": [
    "shelter.read(test_animal)"
   ]
  },
  {
   "cell_type": "code",
   "execution_count": 10,
   "id": "a901cf5d-ad97-4803-b2b6-77e54638985c",
   "metadata": {},
   "outputs": [
    {
     "data": {
      "text/plain": [
       "1"
      ]
     },
     "execution_count": 10,
     "metadata": {},
     "output_type": "execute_result"
    }
   ],
   "source": [
    "shelter.delete(test_animal)"
   ]
  },
  {
   "cell_type": "code",
   "execution_count": null,
   "id": "e0159d20-383c-47d8-885d-8498ec9c03e2",
   "metadata": {},
   "outputs": [],
   "source": [
    "shelter.read(test_animal)"
   ]
  },
  {
   "cell_type": "code",
   "execution_count": null,
   "id": "8f8dcf86-ddbb-4f54-8508-ee2446093dbb",
   "metadata": {},
   "outputs": [],
   "source": []
  },
  {
   "cell_type": "code",
   "execution_count": null,
   "id": "dbf131da-26fd-4d11-99dd-9323de80c8a5",
   "metadata": {},
   "outputs": [],
   "source": []
  }
 ],
 "metadata": {
  "kernelspec": {
   "display_name": "Python 3 (ipykernel)",
   "language": "python",
   "name": "python3"
  },
  "language_info": {
   "codemirror_mode": {
    "name": "ipython",
    "version": 3
   },
   "file_extension": ".py",
   "mimetype": "text/x-python",
   "name": "python",
   "nbconvert_exporter": "python",
   "pygments_lexer": "ipython3",
   "version": "3.13.5"
  }
 },
 "nbformat": 4,
 "nbformat_minor": 5
}
